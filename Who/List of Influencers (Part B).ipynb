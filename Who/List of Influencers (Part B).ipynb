{
 "cells": [
  {
   "cell_type": "markdown",
   "metadata": {},
   "source": [
    "# List of Influencers: Continuation"
   ]
  },
  {
   "cell_type": "code",
   "execution_count": 1,
   "metadata": {},
   "outputs": [],
   "source": [
    "import pandas as pd\n",
    "import numpy as np\n",
    "from sklearn import preprocessing"
   ]
  },
  {
   "cell_type": "code",
   "execution_count": 2,
   "metadata": {},
   "outputs": [],
   "source": [
    "kenyan_tweets = pd.read_csv('data/Tweets_with_words.csv',low_memory=False)"
   ]
  },
  {
   "cell_type": "markdown",
   "metadata": {},
   "source": [
    "## Get a list based on Popularity of tweets attained"
   ]
  },
  {
   "cell_type": "code",
   "execution_count": 3,
   "metadata": {},
   "outputs": [],
   "source": [
    "#remove recurring values\n",
    "a = kenyan_tweets[kenyan_tweets['retweet_count'] == 'retweet_count' ].index\n",
    "kenyan_tweets.drop(a , inplace=True)\n",
    "\n",
    "kenyan_tweets['retweet_count'] = pd.to_numeric(kenyan_tweets['retweet_count'])\n",
    "kenyan_tweets['favorite_count'] = pd.to_numeric(kenyan_tweets['favorite_count'])\n",
    "\n",
    "kenyan_popularity = kenyan_tweets.groupby('original_author', as_index=False).mean()\n",
    "kenyan_popularity_values = kenyan_popularity.loc[:,['original_author','retweet_count','favorite_count']]\n",
    "\n",
    "#Standardizing the data\n",
    "array = np.array(kenyan_popularity_values['retweet_count'])\n",
    "kenya_popularity_normalize = preprocessing.normalize([array])\n",
    "kenya_popularity_normalized = pd.DataFrame(kenya_popularity_normalize).transpose()\n",
    "kenyan_popularity_values['retweet_count_normalized']=kenya_popularity_normalized\n",
    "\n",
    "array = np.array(kenyan_popularity_values['favorite_count'])\n",
    "kenya_popularity_normalize = preprocessing.normalize([array])\n",
    "kenya_popularity_normalized = pd.DataFrame(kenya_popularity_normalize).transpose()\n",
    "kenyan_popularity_values['favorite_count_normalized']=kenya_popularity_normalized\n",
    "\n",
    "#calculate popularity\n",
    "kenyan_popularity_values['popularity']=kenyan_popularity_values['retweet_count_normalized']+kenyan_popularity_values['favorite_count_normalized']\n",
    "kenyan_popularity_values = kenyan_popularity_values.sort_values(by=['popularity'], ascending=False)\n",
    "\n",
    "#pick the top\n",
    "kenyan_popularity_values = kenyan_popularity_values[kenyan_popularity_values['popularity'] >= 0.01]"
   ]
  },
  {
   "cell_type": "markdown",
   "metadata": {},
   "source": [
    "## Get a list based on Mentions of tweets attained"
   ]
  },
  {
   "cell_type": "code",
   "execution_count": 4,
   "metadata": {},
   "outputs": [],
   "source": [
    "mentions_in_kenya = kenyan_tweets['user_mentions']\n",
    "username_mentions = []\n",
    "for mentions in mentions_in_kenya:\n",
    "    try:\n",
    "        mention = mentions.split(', ')\n",
    "        username_mentions.extend(mention)\n",
    "    except AttributeError:\n",
    "        continue\n"
   ]
  },
  {
   "cell_type": "code",
   "execution_count": 5,
   "metadata": {},
   "outputs": [],
   "source": [
    "username_mentions = pd.Series(username_mentions).value_counts()\n",
    "username_mentions = pd.DataFrame(username_mentions)\n",
    "username_mentions = username_mentions[username_mentions[0]>=100]"
   ]
  },
  {
   "cell_type": "markdown",
   "metadata": {},
   "source": [
    "## Combine both lists"
   ]
  },
  {
   "cell_type": "code",
   "execution_count": 6,
   "metadata": {},
   "outputs": [],
   "source": [
    "influencers_in_kenya = []\n",
    "influencers_in_kenya.extend(username_mentions.index)\n",
    "influencers_in_kenya.extend(kenyan_popularity_values['original_author'])\n",
    "\n",
    "#get influencers who are both popular and relevant from mentions\n",
    "influencers_in_kenya = pd.Series(influencers_in_kenya).value_counts()\n",
    "influencers_in_kenya = pd.DataFrame(influencers_in_kenya)\n",
    "\n",
    "#combining both lists\n",
    "influencers_in_kenya = list(influencers_in_kenya.index)"
   ]
  },
  {
   "cell_type": "markdown",
   "metadata": {},
   "source": [
    "## Short listing time!\n",
    "Let us get rid of those who have no reach"
   ]
  },
  {
   "cell_type": "code",
   "execution_count": 7,
   "metadata": {},
   "outputs": [],
   "source": [
    "import sys\n",
    "import os\n",
    "import json\n",
    "import pandas as pd\n",
    "import matplotlib.pyplot as plt\n",
    "import re\n",
    "import string\n",
    "from collections import Counter\n",
    "from datetime import datetime, date, time, timedelta\n",
    "import twitter"
   ]
  },
  {
   "cell_type": "code",
   "execution_count": 8,
   "metadata": {},
   "outputs": [
    {
     "name": "stderr",
     "output_type": "stream",
     "text": [
      "[nltk_data] Downloading package punkt to\n",
      "[nltk_data]     C:\\Users\\smwik\\AppData\\Roaming\\nltk_data...\n",
      "[nltk_data]   Package punkt is already up-to-date!\n",
      "[nltk_data] Downloading package stopwords to\n",
      "[nltk_data]     C:\\Users\\smwik\\AppData\\Roaming\\nltk_data...\n",
      "[nltk_data]   Package stopwords is already up-to-date!\n"
     ]
    },
    {
     "data": {
      "text/plain": [
       "True"
      ]
     },
     "execution_count": 8,
     "metadata": {},
     "output_type": "execute_result"
    }
   ],
   "source": [
    "#Import the necessary methods from tweepy library  \n",
    "import tweepy\n",
    "from tweepy.streaming import StreamListener\n",
    "from tweepy import OAuthHandler\n",
    "from tweepy import Stream\n",
    "from tweepy import API\n",
    "from tweepy import Cursor\n",
    "\n",
    "#sentiment analysis package\n",
    "from textblob import TextBlob\n",
    "\n",
    "#general text pre-processor\n",
    "import nltk\n",
    "from nltk.corpus import stopwords\n",
    "nltk.download('punkt')\n",
    "nltk.download('stopwords')\n",
    "\n",
    "#tweet pre-processor \n",
    "import preprocessor as p\n",
    "\n",
    "from dotenv import load_dotenv\n",
    "load_dotenv()\n",
    "\n",
    "from pathlib import Path  # Python 3.6+ only\n",
    "env_path = Path('.') / '.env'\n",
    "load_dotenv(dotenv_path=env_path)"
   ]
  },
  {
   "cell_type": "code",
   "execution_count": 9,
   "metadata": {},
   "outputs": [],
   "source": [
    "#Variables that contains the user credentials to access Twitter API \n",
    "consumer_key = os.environ.get('TWITTER_API_KEY')\n",
    "consumer_secret = os.environ.get('TWITTER_API_SECRET')\n",
    "access_token = os.environ.get('TWITTER_ACCESS_TOKEN')\n",
    "access_token_secret = os.environ.get('TWITTER_ACCESS_TOKEN_SECRET')\n",
    "\n",
    "#This handles Twitter authetification and the connection to Twitter Streaming API\n",
    "auth = OAuthHandler(consumer_key, consumer_secret)\n",
    "auth.set_access_token(access_token, access_token_secret)\n",
    "api = tweepy.API(auth,wait_on_rate_limit=True,wait_on_rate_limit_notify=True)\n"
   ]
  },
  {
   "cell_type": "code",
   "execution_count": 10,
   "metadata": {},
   "outputs": [],
   "source": [
    "influencers_shortlist = []\n",
    "for username in influencers_in_kenya:\n",
    "    try:\n",
    "        search = api.search_users(username) \n",
    "        for user in search: \n",
    "            if user.screen_name == username:\n",
    "                influencer_data = []\n",
    "                influencer_data.extend([user.name,user.screen_name,user.followers_count,user.friends_count])\n",
    "                influencers_shortlist.extend([influencer_data])\n",
    "                \n",
    "    except:\n",
    "        continue"
   ]
  },
  {
   "cell_type": "code",
   "execution_count": 11,
   "metadata": {},
   "outputs": [],
   "source": [
    "influencers_shortlist = pd.DataFrame(influencers_shortlist,columns = ['Name','Username','Number of Followers','Number of Following'])\n",
    "influencers_shortlist['reach_score']= influencers_shortlist['Number of Followers'] - influencers_shortlist['Number of Following']\n",
    "influencers_shortlist = influencers_shortlist[influencers_shortlist['reach_score']>=100000]\n",
    "influencers_shortlist = list(influencers_shortlist['Username'])\n",
    "influencers_shortlist = pd.DataFrame(influencers_shortlist)"
   ]
  },
  {
   "cell_type": "code",
   "execution_count": 12,
   "metadata": {},
   "outputs": [
    {
     "data": {
      "text/html": [
       "<div>\n",
       "<style scoped>\n",
       "    .dataframe tbody tr th:only-of-type {\n",
       "        vertical-align: middle;\n",
       "    }\n",
       "\n",
       "    .dataframe tbody tr th {\n",
       "        vertical-align: top;\n",
       "    }\n",
       "\n",
       "    .dataframe thead th {\n",
       "        text-align: right;\n",
       "    }\n",
       "</style>\n",
       "<table border=\"1\" class=\"dataframe\">\n",
       "  <thead>\n",
       "    <tr style=\"text-align: right;\">\n",
       "      <th></th>\n",
       "      <th>0</th>\n",
       "    </tr>\n",
       "  </thead>\n",
       "  <tbody>\n",
       "    <tr>\n",
       "      <th>0</th>\n",
       "      <td>kipmurkomen</td>\n",
       "    </tr>\n",
       "    <tr>\n",
       "      <th>1</th>\n",
       "      <td>TheStarBreaking</td>\n",
       "    </tr>\n",
       "    <tr>\n",
       "      <th>2</th>\n",
       "      <td>bonifacemwangi</td>\n",
       "    </tr>\n",
       "    <tr>\n",
       "      <th>3</th>\n",
       "      <td>DavidNdii</td>\n",
       "    </tr>\n",
       "    <tr>\n",
       "      <th>4</th>\n",
       "      <td>DCI_Kenya</td>\n",
       "    </tr>\n",
       "    <tr>\n",
       "      <th>...</th>\n",
       "      <td>...</td>\n",
       "    </tr>\n",
       "    <tr>\n",
       "      <th>103</th>\n",
       "      <td>GhettoRadio895</td>\n",
       "    </tr>\n",
       "    <tr>\n",
       "      <th>104</th>\n",
       "      <td>dailynation</td>\n",
       "    </tr>\n",
       "    <tr>\n",
       "      <th>105</th>\n",
       "      <td>CarolRadull</td>\n",
       "    </tr>\n",
       "    <tr>\n",
       "      <th>106</th>\n",
       "      <td>aajtak</td>\n",
       "    </tr>\n",
       "    <tr>\n",
       "      <th>107</th>\n",
       "      <td>eddiebutita</td>\n",
       "    </tr>\n",
       "  </tbody>\n",
       "</table>\n",
       "<p>108 rows × 1 columns</p>\n",
       "</div>"
      ],
      "text/plain": [
       "                   0\n",
       "0        kipmurkomen\n",
       "1    TheStarBreaking\n",
       "2     bonifacemwangi\n",
       "3          DavidNdii\n",
       "4          DCI_Kenya\n",
       "..               ...\n",
       "103   GhettoRadio895\n",
       "104      dailynation\n",
       "105      CarolRadull\n",
       "106           aajtak\n",
       "107      eddiebutita\n",
       "\n",
       "[108 rows x 1 columns]"
      ]
     },
     "execution_count": 12,
     "metadata": {},
     "output_type": "execute_result"
    }
   ],
   "source": [
    "influencers_shortlist"
   ]
  },
  {
   "cell_type": "code",
   "execution_count": 13,
   "metadata": {},
   "outputs": [],
   "source": [
    "influencers_shortlist.to_csv('data/influencers_shortlist.csv') "
   ]
  },
  {
   "cell_type": "code",
   "execution_count": null,
   "metadata": {},
   "outputs": [],
   "source": []
  }
 ],
 "metadata": {
  "kernelspec": {
   "display_name": "Python 3",
   "language": "python",
   "name": "python3"
  },
  "language_info": {
   "codemirror_mode": {
    "name": "ipython",
    "version": 3
   },
   "file_extension": ".py",
   "mimetype": "text/x-python",
   "name": "python",
   "nbconvert_exporter": "python",
   "pygments_lexer": "ipython3",
   "version": "3.7.6"
  }
 },
 "nbformat": 4,
 "nbformat_minor": 4
}
